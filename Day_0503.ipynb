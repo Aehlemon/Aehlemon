{
 "cells": [
  {
   "cell_type": "markdown",
   "id": "e4cdae39",
   "metadata": {},
   "source": [
    "## 딕셔너리 모듈\n",
    "\n",
    "- 코딩 문제 풀이 시 알아두면 좋을 딕셔너리 모듈을 살펴본다.\n",
    "- `defaultdict, Counter, OrderedDict`"
   ]
  },
  {
   "cell_type": "markdown",
   "id": "55866842",
   "metadata": {},
   "source": [
    "## 1. Collections 라이브러리 defaultdict 객체\n",
    "\n",
    "- 존재하지 않는 키를 조회할 경우, 에러 메시지를 출력하는 대신,<br> \n",
    "  디폴트 값을 기준으로 해당 키에 대한 딕셔너리 아이템을 생성해줌\n",
    "- `collections.defaultdict` 클래스를 갖는다."
   ]
  },
  {
   "cell_type": "code",
   "execution_count": 2,
   "id": "9a210bfa",
   "metadata": {},
   "outputs": [
    {
     "data": {
      "text/plain": [
       "defaultdict(int, {'A': 5, 'B': 4})"
      ]
     },
     "execution_count": 2,
     "metadata": {},
     "output_type": "execute_result"
    }
   ],
   "source": [
    "from collections import defaultdict\n",
    "\n",
    "a = defaultdict(int)\n",
    "a['A'] = 5\n",
    "a['B'] = 4\n",
    "a"
   ]
  },
  {
   "cell_type": "code",
   "execution_count": 3,
   "id": "147023d9",
   "metadata": {},
   "outputs": [
    {
     "data": {
      "text/plain": [
       "collections.defaultdict"
      ]
     },
     "execution_count": 3,
     "metadata": {},
     "output_type": "execute_result"
    }
   ],
   "source": [
    "type(a)"
   ]
  },
  {
   "cell_type": "code",
   "execution_count": 4,
   "id": "562db776",
   "metadata": {},
   "outputs": [
    {
     "data": {
      "text/plain": [
       "defaultdict(int, {'A': 5, 'B': 4, 'C': 1})"
      ]
     },
     "execution_count": 4,
     "metadata": {},
     "output_type": "execute_result"
    }
   ],
   "source": [
    "a['C'] += 1 # 이미 1 더하고 실행 해서 2가 됨\n",
    "a"
   ]
  },
  {
   "cell_type": "code",
   "execution_count": 7,
   "id": "369f3399",
   "metadata": {},
   "outputs": [
    {
     "data": {
      "text/plain": [
       "defaultdict(int, {'A': 5, 'B': [3, 4, 5]})"
      ]
     },
     "execution_count": 7,
     "metadata": {},
     "output_type": "execute_result"
    }
   ],
   "source": [
    "c = defaultdict(int or list) # or 하면 여러 타입의 자료형도 딕셔너리 값으로 쓸 수 있다.\n",
    "c['A'] = 5\n",
    "c['B'] = [3, 4, 5]\n",
    "c"
   ]
  },
  {
   "cell_type": "code",
   "execution_count": 8,
   "id": "725e302c",
   "metadata": {},
   "outputs": [
    {
     "data": {
      "text/plain": [
       "defaultdict(set, {'A': (1, 2), 'B': (3, 4, 5), 'C': {1, 2, 3, 4}})"
      ]
     },
     "execution_count": 8,
     "metadata": {},
     "output_type": "execute_result"
    }
   ],
   "source": [
    "c = defaultdict(set or dict)\n",
    "c['A'] = (1, 2)\n",
    "c['B'] = (3, 4, 5)\n",
    "c['C'] = {1, 2, 3, 4}\n",
    "c"
   ]
  },
  {
   "cell_type": "markdown",
   "id": "18a7c19c",
   "metadata": {},
   "source": [
    "### Counter 객체\n",
    "\n",
    "- `키: 아이템 개별 원소, 값: 해당 원소/아이템의 개수`가 들어간 딕셔너리 생성\n",
    "- **most_common(k)**: counter 객체에서 가장 빈도 수가 높은 k개의 요소 추출 시 사용"
   ]
  },
  {
   "cell_type": "code",
   "execution_count": null,
   "id": "af287012",
   "metadata": {},
   "outputs": [],
   "source": [
    "from collections import Counter\n",
    "\n",
    "counter = Counter(['red', 'green', 'blue', 'red', 'blue', 'blue'])\n",
    "print(counter['blue'])\n",
    "print(counter['red'])\n",
    "print(counter['green'])"
   ]
  },
  {
   "cell_type": "code",
   "execution_count": null,
   "id": "a496d951",
   "metadata": {},
   "outputs": [],
   "source": [
    "counter.most_common(2)"
   ]
  },
  {
   "cell_type": "code",
   "execution_count": null,
   "id": "0a1c4a5e",
   "metadata": {},
   "outputs": [],
   "source": [
    "a = [1, 2, 3, 4, 3, 4, 5, 2, 2, 2, 3, 4, 3, 5, 5, 1, 2, 5]\n",
    "b = Counter(a)\n",
    "b"
   ]
  },
  {
   "cell_type": "code",
   "execution_count": null,
   "id": "77a6e0f5",
   "metadata": {},
   "outputs": [],
   "source": [
    "b.most_common(1)"
   ]
  },
  {
   "cell_type": "code",
   "execution_count": null,
   "id": "fa0576dc",
   "metadata": {},
   "outputs": [],
   "source": [
    "b.elements()"
   ]
  },
  {
   "cell_type": "code",
   "execution_count": null,
   "id": "bb9ed1dc",
   "metadata": {},
   "outputs": [],
   "source": [
    "list(b) # 중복되지 원소 값으로만 리스트 변환 가능, 이때 b는 카운터 객체\n"
   ]
  },
  {
   "cell_type": "markdown",
   "id": "7c65b3f0",
   "metadata": {},
   "source": [
    "### OrderedDict 객체\n",
    "\n",
    "- 파이썬 3.6 이하에서 딕셔너리에서 입력순서를 유지하기 위해 사용한 객체\n",
    "- 파이썬 3.7 부터는 딕셔너리 내부적으로 인덱스를 이용하여 입력순서가 유지되도록 개선되어 별도로 사용할<br>\n",
    "  필요는 없으나 하위 호환성 위해서 참고만 하는 것으로~~"
   ]
  },
  {
   "cell_type": "code",
   "execution_count": null,
   "id": "b4523ae9",
   "metadata": {},
   "outputs": [],
   "source": [
    "from collections import OrderedDict\n",
    "\n",
    "data = OrderedDict({'banana': 3, 'apple': 2, 'pear': 2, 'oragne' : 4})\n",
    "print(data)"
   ]
  }
 ],
 "metadata": {
  "kernelspec": {
   "display_name": "Python 3 (ipykernel)",
   "language": "python",
   "name": "python3"
  },
  "language_info": {
   "codemirror_mode": {
    "name": "ipython",
    "version": 3
   },
   "file_extension": ".py",
   "mimetype": "text/x-python",
   "name": "python",
   "nbconvert_exporter": "python",
   "pygments_lexer": "ipython3",
   "version": "3.9.7"
  }
 },
 "nbformat": 4,
 "nbformat_minor": 5
}
